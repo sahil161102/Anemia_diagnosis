{
 "cells": [
  {
   "cell_type": "markdown",
   "id": "ce0c3039",
   "metadata": {
    "papermill": {
     "duration": 0.023377,
     "end_time": "2023-09-28T20:18:42.118311",
     "exception": false,
     "start_time": "2023-09-28T20:18:42.094934",
     "status": "completed"
    },
    "tags": []
   },
   "source": [
    "<a id=\"0\"></a>\n",
    "## Introduction\n",
    "Anemia is a condition in which the body does not have enough healthy red blood cells. Red blood cells provide oxygen to body tissues.\n",
    "\n",
    "Different types of anemia include:\n",
    "\n",
    "* Anemia due to vitamin B12 deficiency\n",
    "* Anemia due to folate (folic acid) deficiency\n",
    "* Anemia due to iron deficiency\n",
    "* Anemia of chronic disease\n",
    "* Hemolytic anemia\n",
    "* Idiopathic aplastic anemia\n",
    "* Megaloblastic anemia\n",
    "* Pernicious anemia\n",
    "* Sickle cell anemia\n",
    "* Thalassemia\n",
    "\n",
    "<font color='blue'>\n",
    "content:\n",
    "       \n",
    "1. [Load an Check Data](#1)\n",
    "   * [Correcting Column Names](#2)\n",
    "   * [Changing Data Type](#3)\n",
    "   * [Extracting from the Data](#4)\n",
    "   * [Grouping the Data](#5)\n",
    "       * [Setting the Scale Gaps of Features](#10)\n",
    "2. [Plotting](#6)\n",
    "3. [Creating Model and Testing](#7)\n",
    "   * [Creating Train and Test Data](#8)\n",
    "   * [Testing the Model](#9)"
   ]
  },
  {
   "cell_type": "code",
   "execution_count": 1,
   "id": "18dd6531",
   "metadata": {
    "_cell_guid": "b1076dfc-b9ad-4769-8c92-a6c4dae69d19",
    "_uuid": "8f2839f25d086af736a60e9eeb907d3b93b6e0e5",
    "execution": {
     "iopub.execute_input": "2023-09-28T20:18:42.167441Z",
     "iopub.status.busy": "2023-09-28T20:18:42.166999Z",
     "iopub.status.idle": "2023-09-28T20:18:44.711870Z",
     "shell.execute_reply": "2023-09-28T20:18:44.710560Z"
    },
    "papermill": {
     "duration": 2.574019,
     "end_time": "2023-09-28T20:18:44.715869",
     "exception": false,
     "start_time": "2023-09-28T20:18:42.141850",
     "status": "completed"
    },
    "tags": []
   },
   "outputs": [
    {
     "name": "stdout",
     "output_type": "stream",
     "text": [
      "/kaggle/input/anemia-diagnosis-dataset/CBC data_for_meandeley_csv.csv\n"
     ]
    }
   ],
   "source": [
    "# This Python 3 environment comes with many helpful analytics libraries installed\n",
    "# It is defined by the kaggle/python Docker image: https://github.com/kaggle/docker-python\n",
    "# For example, here's several helpful packages to load\n",
    "\n",
    "import numpy as np # linear algebra\n",
    "import pandas as pd # data processing, CSV file I/O (e.g. pd.read_csv)\n",
    "import matplotlib.pyplot as plt\n",
    "import seaborn as sns\n",
    "from sklearn.metrics import r2_score,confusion_matrix\n",
    "from sklearn.ensemble import RandomForestClassifier\n",
    "from sklearn.neighbors import KNeighborsClassifier\n",
    "from IPython.display import Image\n",
    "import os\n",
    "\n",
    "plt.style.use(\"seaborn-v0_8-darkgrid\")\n",
    "# Input data files are available in the read-only \"../input/\" directory\n",
    "# For example, running this (by clicking run or pressing Shift+Enter) will list all files under the input directory\n",
    "\n",
    "# import warnings\n",
    "import warnings\n",
    "# filter warnings\n",
    "warnings.filterwarnings('ignore')\n",
    "\n",
    "for dirname, _, filenames in os.walk('/kaggle/input'):\n",
    "    for filename in filenames:\n",
    "        print(os.path.join(dirname, filename))\n",
    "\n",
    "# You can write up to 20GB to the current directory (/kaggle/working/) that gets preserved as output when you create a version using \"Save & Run All\" \n",
    "# You can also write temporary files to /kaggle/temp/, but they won't be saved outside of the current session"
   ]
  },
  {
   "cell_type": "markdown",
   "id": "ff92341c",
   "metadata": {
    "papermill": {
     "duration": 0.023903,
     "end_time": "2023-09-28T20:18:44.764423",
     "exception": false,
     "start_time": "2023-09-28T20:18:44.740520",
     "status": "completed"
    },
    "tags": []
   },
   "source": [
    "---"
   ]
  },
  {
   "cell_type": "markdown",
   "id": "ff42d225",
   "metadata": {
    "papermill": {
     "duration": 0.023739,
     "end_time": "2023-09-28T20:18:44.811815",
     "exception": false,
     "start_time": "2023-09-28T20:18:44.788076",
     "status": "completed"
    },
    "tags": []
   },
   "source": [
    "<a id=\"1\"></a>\n",
    "# Load an Check Data"
   ]
  },
  {
   "cell_type": "markdown",
   "id": "ed57b4f0",
   "metadata": {
    "papermill": {
     "duration": 0.023406,
     "end_time": "2023-09-28T20:18:44.859118",
     "exception": false,
     "start_time": "2023-09-28T20:18:44.835712",
     "status": "completed"
    },
    "tags": []
   },
   "source": [
    "We loaded the data."
   ]
  },
  {
   "cell_type": "code",
   "execution_count": 2,
   "id": "0467b674",
   "metadata": {
    "execution": {
     "iopub.execute_input": "2023-09-28T20:18:44.908691Z",
     "iopub.status.busy": "2023-09-28T20:18:44.908123Z",
     "iopub.status.idle": "2023-09-28T20:18:44.932587Z",
     "shell.execute_reply": "2023-09-28T20:18:44.931352Z"
    },
    "papermill": {
     "duration": 0.052424,
     "end_time": "2023-09-28T20:18:44.935150",
     "exception": false,
     "start_time": "2023-09-28T20:18:44.882726",
     "status": "completed"
    },
    "tags": []
   },
   "outputs": [],
   "source": [
    "data = pd.read_csv(\"/kaggle/input/anemia-diagnosis-dataset/CBC data_for_meandeley_csv.csv\")"
   ]
  },
  {
   "cell_type": "code",
   "execution_count": 3,
   "id": "a386cd54",
   "metadata": {
    "execution": {
     "iopub.execute_input": "2023-09-28T20:18:44.983809Z",
     "iopub.status.busy": "2023-09-28T20:18:44.982988Z",
     "iopub.status.idle": "2023-09-28T20:18:45.015140Z",
     "shell.execute_reply": "2023-09-28T20:18:45.013989Z"
    },
    "papermill": {
     "duration": 0.058819,
     "end_time": "2023-09-28T20:18:45.017469",
     "exception": false,
     "start_time": "2023-09-28T20:18:44.958650",
     "status": "completed"
    },
    "tags": []
   },
   "outputs": [
    {
     "data": {
      "text/html": [
       "<div>\n",
       "<style scoped>\n",
       "    .dataframe tbody tr th:only-of-type {\n",
       "        vertical-align: middle;\n",
       "    }\n",
       "\n",
       "    .dataframe tbody tr th {\n",
       "        vertical-align: top;\n",
       "    }\n",
       "\n",
       "    .dataframe thead th {\n",
       "        text-align: right;\n",
       "    }\n",
       "</style>\n",
       "<table border=\"1\" class=\"dataframe\">\n",
       "  <thead>\n",
       "    <tr style=\"text-align: right;\">\n",
       "      <th></th>\n",
       "      <th>S. No.</th>\n",
       "      <th>Age</th>\n",
       "      <th>Sex</th>\n",
       "      <th>RBC</th>\n",
       "      <th>PCV</th>\n",
       "      <th>MCV</th>\n",
       "      <th>MCH</th>\n",
       "      <th>MCHC</th>\n",
       "      <th>RDW</th>\n",
       "      <th>TLC</th>\n",
       "      <th>PLT /mm3</th>\n",
       "      <th>HGB</th>\n",
       "    </tr>\n",
       "  </thead>\n",
       "  <tbody>\n",
       "    <tr>\n",
       "      <th>0</th>\n",
       "      <td>NaN</td>\n",
       "      <td>NaN</td>\n",
       "      <td>NaN</td>\n",
       "      <td>Red Blood Cell count</td>\n",
       "      <td>Packed Cell Volume</td>\n",
       "      <td>Mean Cell Volume</td>\n",
       "      <td>Mean Cell Hemoglobin</td>\n",
       "      <td>NaN</td>\n",
       "      <td>Red Cell Distribution width</td>\n",
       "      <td>White Blood Cell (WBC count),</td>\n",
       "      <td>Platelet</td>\n",
       "      <td>Hemoglobin</td>\n",
       "    </tr>\n",
       "    <tr>\n",
       "      <th>1</th>\n",
       "      <td>1.0</td>\n",
       "      <td>28.0</td>\n",
       "      <td>0.0</td>\n",
       "      <td>5.66</td>\n",
       "      <td>34</td>\n",
       "      <td>60.1</td>\n",
       "      <td>17</td>\n",
       "      <td>28.2</td>\n",
       "      <td>20</td>\n",
       "      <td>11.1</td>\n",
       "      <td>128.3</td>\n",
       "      <td>9.6</td>\n",
       "    </tr>\n",
       "    <tr>\n",
       "      <th>2</th>\n",
       "      <td>2.0</td>\n",
       "      <td>41.0</td>\n",
       "      <td>0.0</td>\n",
       "      <td>4.78</td>\n",
       "      <td>44.5</td>\n",
       "      <td>93.1</td>\n",
       "      <td>28.9</td>\n",
       "      <td>31.0</td>\n",
       "      <td>13</td>\n",
       "      <td>7.02</td>\n",
       "      <td>419</td>\n",
       "      <td>13.8</td>\n",
       "    </tr>\n",
       "    <tr>\n",
       "      <th>3</th>\n",
       "      <td>3.0</td>\n",
       "      <td>40.0</td>\n",
       "      <td>1.0</td>\n",
       "      <td>4.65</td>\n",
       "      <td>41.6</td>\n",
       "      <td>89.5</td>\n",
       "      <td>28.8</td>\n",
       "      <td>32.2</td>\n",
       "      <td>13</td>\n",
       "      <td>8.09</td>\n",
       "      <td>325</td>\n",
       "      <td>13.4</td>\n",
       "    </tr>\n",
       "    <tr>\n",
       "      <th>4</th>\n",
       "      <td>4.0</td>\n",
       "      <td>76.0</td>\n",
       "      <td>0.0</td>\n",
       "      <td>4.24</td>\n",
       "      <td>36.7</td>\n",
       "      <td>86.6</td>\n",
       "      <td>26.7</td>\n",
       "      <td>30.8</td>\n",
       "      <td>14.9</td>\n",
       "      <td>13.41</td>\n",
       "      <td>264</td>\n",
       "      <td>11.3</td>\n",
       "    </tr>\n",
       "  </tbody>\n",
       "</table>\n",
       "</div>"
      ],
      "text/plain": [
       "   S. No.  Age        Sex                 RBC                     PCV  \\\n",
       "0     NaN        NaN    NaN  Red Blood Cell count  Packed Cell Volume   \n",
       "1     1.0       28.0    0.0                  5.66                  34   \n",
       "2     2.0       41.0    0.0                  4.78                44.5   \n",
       "3     3.0       40.0    1.0                  4.65                41.6   \n",
       "4     4.0       76.0    0.0                  4.24                36.7   \n",
       "\n",
       "              MCV                     MCH   MCHC    \\\n",
       "0  Mean Cell Volume  Mean Cell Hemoglobin      NaN   \n",
       "1              60.1                    17     28.2   \n",
       "2              93.1                  28.9     31.0   \n",
       "3              89.5                  28.8     32.2   \n",
       "4              86.6                  26.7     30.8   \n",
       "\n",
       "                       RDW                                TLC  PLT /mm3  \\\n",
       "0  Red Cell Distribution width  White Blood Cell (WBC count),  Platelet   \n",
       "1                           20                           11.1     128.3   \n",
       "2                           13                           7.02       419   \n",
       "3                           13                           8.09       325   \n",
       "4                         14.9                          13.41       264   \n",
       "\n",
       "         HGB   \n",
       "0  Hemoglobin  \n",
       "1         9.6  \n",
       "2        13.8  \n",
       "3        13.4  \n",
       "4        11.3  "
      ]
     },
     "execution_count": 3,
     "metadata": {},
     "output_type": "execute_result"
    }
   ],
   "source": [
    "data.head(5)"
   ]
  },
  {
   "cell_type": "code",
   "execution_count": 4,
   "id": "5a0d6741",
   "metadata": {
    "execution": {
     "iopub.execute_input": "2023-09-28T20:18:45.067602Z",
     "iopub.status.busy": "2023-09-28T20:18:45.066571Z",
     "iopub.status.idle": "2023-09-28T20:18:45.091247Z",
     "shell.execute_reply": "2023-09-28T20:18:45.089509Z"
    },
    "papermill": {
     "duration": 0.053585,
     "end_time": "2023-09-28T20:18:45.095074",
     "exception": false,
     "start_time": "2023-09-28T20:18:45.041489",
     "status": "completed"
    },
    "tags": []
   },
   "outputs": [
    {
     "name": "stdout",
     "output_type": "stream",
     "text": [
      "<class 'pandas.core.frame.DataFrame'>\n",
      "RangeIndex: 374 entries, 0 to 373\n",
      "Data columns (total 12 columns):\n",
      " #   Column     Non-Null Count  Dtype  \n",
      "---  ------     --------------  -----  \n",
      " 0   S. No.     364 non-null    float64\n",
      " 1   Age        364 non-null    float64\n",
      " 2   Sex        364 non-null    float64\n",
      " 3     RBC      365 non-null    object \n",
      " 4   PCV        365 non-null    object \n",
      " 5   MCV        365 non-null    object \n",
      " 6   MCH        365 non-null    object \n",
      " 7    MCHC      364 non-null    float64\n",
      " 8    RDW       365 non-null    object \n",
      " 9   TLC        365 non-null    object \n",
      " 10   PLT /mm3  365 non-null    object \n",
      " 11   HGB       365 non-null    object \n",
      "dtypes: float64(4), object(8)\n",
      "memory usage: 35.2+ KB\n"
     ]
    }
   ],
   "source": [
    "data.info()"
   ]
  },
  {
   "cell_type": "code",
   "execution_count": 5,
   "id": "03958b62",
   "metadata": {
    "execution": {
     "iopub.execute_input": "2023-09-28T20:18:45.205011Z",
     "iopub.status.busy": "2023-09-28T20:18:45.204642Z",
     "iopub.status.idle": "2023-09-28T20:18:45.229457Z",
     "shell.execute_reply": "2023-09-28T20:18:45.228504Z"
    },
    "papermill": {
     "duration": 0.111984,
     "end_time": "2023-09-28T20:18:45.231532",
     "exception": false,
     "start_time": "2023-09-28T20:18:45.119548",
     "status": "completed"
    },
    "tags": []
   },
   "outputs": [
    {
     "data": {
      "text/html": [
       "<div>\n",
       "<style scoped>\n",
       "    .dataframe tbody tr th:only-of-type {\n",
       "        vertical-align: middle;\n",
       "    }\n",
       "\n",
       "    .dataframe tbody tr th {\n",
       "        vertical-align: top;\n",
       "    }\n",
       "\n",
       "    .dataframe thead th {\n",
       "        text-align: right;\n",
       "    }\n",
       "</style>\n",
       "<table border=\"1\" class=\"dataframe\">\n",
       "  <thead>\n",
       "    <tr style=\"text-align: right;\">\n",
       "      <th></th>\n",
       "      <th>S. No.</th>\n",
       "      <th>Age</th>\n",
       "      <th>Sex</th>\n",
       "      <th>MCHC</th>\n",
       "    </tr>\n",
       "  </thead>\n",
       "  <tbody>\n",
       "    <tr>\n",
       "      <th>count</th>\n",
       "      <td>364.000000</td>\n",
       "      <td>364.000000</td>\n",
       "      <td>364.000000</td>\n",
       "      <td>364.000000</td>\n",
       "    </tr>\n",
       "    <tr>\n",
       "      <th>mean</th>\n",
       "      <td>182.500000</td>\n",
       "      <td>44.917582</td>\n",
       "      <td>0.442308</td>\n",
       "      <td>32.053407</td>\n",
       "    </tr>\n",
       "    <tr>\n",
       "      <th>std</th>\n",
       "      <td>105.221988</td>\n",
       "      <td>18.780854</td>\n",
       "      <td>0.497344</td>\n",
       "      <td>2.801790</td>\n",
       "    </tr>\n",
       "    <tr>\n",
       "      <th>min</th>\n",
       "      <td>1.000000</td>\n",
       "      <td>11.000000</td>\n",
       "      <td>0.000000</td>\n",
       "      <td>23.600000</td>\n",
       "    </tr>\n",
       "    <tr>\n",
       "      <th>25%</th>\n",
       "      <td>91.750000</td>\n",
       "      <td>28.000000</td>\n",
       "      <td>0.000000</td>\n",
       "      <td>30.300000</td>\n",
       "    </tr>\n",
       "    <tr>\n",
       "      <th>50%</th>\n",
       "      <td>182.500000</td>\n",
       "      <td>44.500000</td>\n",
       "      <td>0.000000</td>\n",
       "      <td>31.700000</td>\n",
       "    </tr>\n",
       "    <tr>\n",
       "      <th>75%</th>\n",
       "      <td>273.250000</td>\n",
       "      <td>60.000000</td>\n",
       "      <td>1.000000</td>\n",
       "      <td>33.300000</td>\n",
       "    </tr>\n",
       "    <tr>\n",
       "      <th>max</th>\n",
       "      <td>364.000000</td>\n",
       "      <td>89.000000</td>\n",
       "      <td>1.000000</td>\n",
       "      <td>50.200000</td>\n",
       "    </tr>\n",
       "  </tbody>\n",
       "</table>\n",
       "</div>"
      ],
      "text/plain": [
       "           S. No.   Age             Sex        MCHC  \n",
       "count  364.000000  364.000000  364.000000  364.000000\n",
       "mean   182.500000   44.917582    0.442308   32.053407\n",
       "std    105.221988   18.780854    0.497344    2.801790\n",
       "min      1.000000   11.000000    0.000000   23.600000\n",
       "25%     91.750000   28.000000    0.000000   30.300000\n",
       "50%    182.500000   44.500000    0.000000   31.700000\n",
       "75%    273.250000   60.000000    1.000000   33.300000\n",
       "max    364.000000   89.000000    1.000000   50.200000"
      ]
     },
     "execution_count": 5,
     "metadata": {},
     "output_type": "execute_result"
    }
   ],
   "source": [
    "data.describe()"
   ]
  },
  {
   "cell_type": "markdown",
   "id": "8640e3e2",
   "metadata": {
    "papermill": {
     "duration": 0.024221,
     "end_time": "2023-09-28T20:18:45.280295",
     "exception": false,
     "start_time": "2023-09-28T20:18:45.256074",
     "status": "completed"
    },
    "tags": []
   },
   "source": [
    "---"
   ]
  },
  {
   "cell_type": "markdown",
   "id": "f523e583",
   "metadata": {
    "papermill": {
     "duration": 0.023926,
     "end_time": "2023-09-28T20:18:45.328802",
     "exception": false,
     "start_time": "2023-09-28T20:18:45.304876",
     "status": "completed"
    },
    "tags": []
   },
   "source": [
    "<a id=\"2\"></a>\n",
    "# Manipulate the Data"
   ]
  },
  {
   "cell_type": "markdown",
   "id": "617dc94d",
   "metadata": {
    "papermill": {
     "duration": 0.023924,
     "end_time": "2023-09-28T20:18:45.377054",
     "exception": false,
     "start_time": "2023-09-28T20:18:45.353130",
     "status": "completed"
    },
    "tags": []
   },
   "source": [
    "<a id=\"2\"></a>\n",
    "## Correcting Column Names\n",
    "Here we use the strip method to get rid of the spaces at the beginning and end of the names in the columns. We also fix the spaces manually."
   ]
  },
  {
   "cell_type": "code",
   "execution_count": 6,
   "id": "e74c4436",
   "metadata": {
    "execution": {
     "iopub.execute_input": "2023-09-28T20:18:45.428915Z",
     "iopub.status.busy": "2023-09-28T20:18:45.428186Z",
     "iopub.status.idle": "2023-09-28T20:18:45.432411Z",
     "shell.execute_reply": "2023-09-28T20:18:45.431693Z"
    },
    "papermill": {
     "duration": 0.032561,
     "end_time": "2023-09-28T20:18:45.434357",
     "exception": false,
     "start_time": "2023-09-28T20:18:45.401796",
     "status": "completed"
    },
    "tags": []
   },
   "outputs": [],
   "source": [
    "data = data.copy()"
   ]
  },
  {
   "cell_type": "code",
   "execution_count": 7,
   "id": "7565ff71",
   "metadata": {
    "execution": {
     "iopub.execute_input": "2023-09-28T20:18:45.485637Z",
     "iopub.status.busy": "2023-09-28T20:18:45.485211Z",
     "iopub.status.idle": "2023-09-28T20:18:45.490920Z",
     "shell.execute_reply": "2023-09-28T20:18:45.489875Z"
    },
    "papermill": {
     "duration": 0.034201,
     "end_time": "2023-09-28T20:18:45.493287",
     "exception": false,
     "start_time": "2023-09-28T20:18:45.459086",
     "status": "completed"
    },
    "tags": []
   },
   "outputs": [
    {
     "name": "stdout",
     "output_type": "stream",
     "text": [
      "Index(['S. No.', 'Age      ', 'Sex  ', '  RBC    ', 'PCV', 'MCV  ', 'MCH',\n",
      "       ' MCHC  ', ' RDW    ', 'TLC', ' PLT /mm3', ' HGB '],\n",
      "      dtype='object')\n"
     ]
    }
   ],
   "source": [
    "print(data.columns)"
   ]
  },
  {
   "cell_type": "code",
   "execution_count": 8,
   "id": "786c298e",
   "metadata": {
    "execution": {
     "iopub.execute_input": "2023-09-28T20:18:45.544155Z",
     "iopub.status.busy": "2023-09-28T20:18:45.543738Z",
     "iopub.status.idle": "2023-09-28T20:18:45.550585Z",
     "shell.execute_reply": "2023-09-28T20:18:45.549455Z"
    },
    "papermill": {
     "duration": 0.035281,
     "end_time": "2023-09-28T20:18:45.553214",
     "exception": false,
     "start_time": "2023-09-28T20:18:45.517933",
     "status": "completed"
    },
    "tags": []
   },
   "outputs": [
    {
     "name": "stdout",
     "output_type": "stream",
     "text": [
      "Index(['S.No.', 'Age', 'Sex', 'RBC', 'PCV', 'MCV', 'MCH', 'MCHC', 'RDW', 'TLC',\n",
      "       'PLT/mm3', 'HGB'],\n",
      "      dtype='object')\n"
     ]
    }
   ],
   "source": [
    "data.columns = data.columns.str.replace(' ', '')\n",
    "print(data.columns)"
   ]
  },
  {
   "cell_type": "markdown",
   "id": "e526d482",
   "metadata": {
    "papermill": {
     "duration": 0.024695,
     "end_time": "2023-09-28T20:18:45.602514",
     "exception": false,
     "start_time": "2023-09-28T20:18:45.577819",
     "status": "completed"
    },
    "tags": []
   },
   "source": [
    "---"
   ]
  },
  {
   "cell_type": "markdown",
   "id": "0ccd5873",
   "metadata": {
    "papermill": {
     "duration": 0.024111,
     "end_time": "2023-09-28T20:18:45.651047",
     "exception": false,
     "start_time": "2023-09-28T20:18:45.626936",
     "status": "completed"
    },
    "tags": []
   },
   "source": [
    "<a id=\"4\"></a>\n",
    "## Extracting from the Data\n"
   ]
  },
  {
   "cell_type": "markdown",
   "id": "eb368681",
   "metadata": {
    "papermill": {
     "duration": 0.024558,
     "end_time": "2023-09-28T20:18:45.700392",
     "exception": false,
     "start_time": "2023-09-28T20:18:45.675834",
     "status": "completed"
    },
    "tags": []
   },
   "source": [
    "Extract data from our data frame that is not directly related to the disease.In order to use the ranges of disease blood values, we need to use only the appropriate data, so we need to update our data."
   ]
  },
  {
   "cell_type": "code",
   "execution_count": 9,
   "id": "1340a544",
   "metadata": {
    "execution": {
     "iopub.execute_input": "2023-09-28T20:18:45.751698Z",
     "iopub.status.busy": "2023-09-28T20:18:45.751286Z",
     "iopub.status.idle": "2023-09-28T20:18:45.758878Z",
     "shell.execute_reply": "2023-09-28T20:18:45.757791Z"
    },
    "papermill": {
     "duration": 0.036123,
     "end_time": "2023-09-28T20:18:45.761255",
     "exception": false,
     "start_time": "2023-09-28T20:18:45.725132",
     "status": "completed"
    },
    "tags": []
   },
   "outputs": [],
   "source": [
    "filtered_data = data.dropna(ignore_index=True)\n",
    "data=filtered_data.copy()"
   ]
  },
  {
   "cell_type": "code",
   "execution_count": 10,
   "id": "e55b1193",
   "metadata": {
    "execution": {
     "iopub.execute_input": "2023-09-28T20:18:45.812185Z",
     "iopub.status.busy": "2023-09-28T20:18:45.811788Z",
     "iopub.status.idle": "2023-09-28T20:18:45.834752Z",
     "shell.execute_reply": "2023-09-28T20:18:45.833594Z"
    },
    "papermill": {
     "duration": 0.051217,
     "end_time": "2023-09-28T20:18:45.837050",
     "exception": false,
     "start_time": "2023-09-28T20:18:45.785833",
     "status": "completed"
    },
    "tags": []
   },
   "outputs": [
    {
     "data": {
      "text/html": [
       "<div>\n",
       "<style scoped>\n",
       "    .dataframe tbody tr th:only-of-type {\n",
       "        vertical-align: middle;\n",
       "    }\n",
       "\n",
       "    .dataframe tbody tr th {\n",
       "        vertical-align: top;\n",
       "    }\n",
       "\n",
       "    .dataframe thead th {\n",
       "        text-align: right;\n",
       "    }\n",
       "</style>\n",
       "<table border=\"1\" class=\"dataframe\">\n",
       "  <thead>\n",
       "    <tr style=\"text-align: right;\">\n",
       "      <th></th>\n",
       "      <th>S.No.</th>\n",
       "      <th>Age</th>\n",
       "      <th>Sex</th>\n",
       "      <th>MCHC</th>\n",
       "    </tr>\n",
       "  </thead>\n",
       "  <tbody>\n",
       "    <tr>\n",
       "      <th>count</th>\n",
       "      <td>364.000000</td>\n",
       "      <td>364.000000</td>\n",
       "      <td>364.000000</td>\n",
       "      <td>364.000000</td>\n",
       "    </tr>\n",
       "    <tr>\n",
       "      <th>mean</th>\n",
       "      <td>182.500000</td>\n",
       "      <td>44.917582</td>\n",
       "      <td>0.442308</td>\n",
       "      <td>32.053407</td>\n",
       "    </tr>\n",
       "    <tr>\n",
       "      <th>std</th>\n",
       "      <td>105.221988</td>\n",
       "      <td>18.780854</td>\n",
       "      <td>0.497344</td>\n",
       "      <td>2.801790</td>\n",
       "    </tr>\n",
       "    <tr>\n",
       "      <th>min</th>\n",
       "      <td>1.000000</td>\n",
       "      <td>11.000000</td>\n",
       "      <td>0.000000</td>\n",
       "      <td>23.600000</td>\n",
       "    </tr>\n",
       "    <tr>\n",
       "      <th>25%</th>\n",
       "      <td>91.750000</td>\n",
       "      <td>28.000000</td>\n",
       "      <td>0.000000</td>\n",
       "      <td>30.300000</td>\n",
       "    </tr>\n",
       "    <tr>\n",
       "      <th>50%</th>\n",
       "      <td>182.500000</td>\n",
       "      <td>44.500000</td>\n",
       "      <td>0.000000</td>\n",
       "      <td>31.700000</td>\n",
       "    </tr>\n",
       "    <tr>\n",
       "      <th>75%</th>\n",
       "      <td>273.250000</td>\n",
       "      <td>60.000000</td>\n",
       "      <td>1.000000</td>\n",
       "      <td>33.300000</td>\n",
       "    </tr>\n",
       "    <tr>\n",
       "      <th>max</th>\n",
       "      <td>364.000000</td>\n",
       "      <td>89.000000</td>\n",
       "      <td>1.000000</td>\n",
       "      <td>50.200000</td>\n",
       "    </tr>\n",
       "  </tbody>\n",
       "</table>\n",
       "</div>"
      ],
      "text/plain": [
       "            S.No.         Age         Sex        MCHC\n",
       "count  364.000000  364.000000  364.000000  364.000000\n",
       "mean   182.500000   44.917582    0.442308   32.053407\n",
       "std    105.221988   18.780854    0.497344    2.801790\n",
       "min      1.000000   11.000000    0.000000   23.600000\n",
       "25%     91.750000   28.000000    0.000000   30.300000\n",
       "50%    182.500000   44.500000    0.000000   31.700000\n",
       "75%    273.250000   60.000000    1.000000   33.300000\n",
       "max    364.000000   89.000000    1.000000   50.200000"
      ]
     },
     "execution_count": 10,
     "metadata": {},
     "output_type": "execute_result"
    }
   ],
   "source": [
    "filtered_data.describe()"
   ]
  },
  {
   "cell_type": "code",
   "execution_count": 11,
   "id": "3a8ef670",
   "metadata": {
    "execution": {
     "iopub.execute_input": "2023-09-28T20:18:45.889478Z",
     "iopub.status.busy": "2023-09-28T20:18:45.889037Z",
     "iopub.status.idle": "2023-09-28T20:18:45.901094Z",
     "shell.execute_reply": "2023-09-28T20:18:45.900060Z"
    },
    "papermill": {
     "duration": 0.041375,
     "end_time": "2023-09-28T20:18:45.903546",
     "exception": false,
     "start_time": "2023-09-28T20:18:45.862171",
     "status": "completed"
    },
    "tags": []
   },
   "outputs": [
    {
     "data": {
      "text/plain": [
       "7      14.0\n",
       "8      16.0\n",
       "38     14.0\n",
       "56     15.0\n",
       "57     13.0\n",
       "60     15.0\n",
       "61     13.0\n",
       "66     14.0\n",
       "69     13.0\n",
       "70     13.0\n",
       "72     17.0\n",
       "83     17.0\n",
       "121    15.0\n",
       "128    11.0\n",
       "137    16.0\n",
       "151    14.0\n",
       "161    13.0\n",
       "172    17.0\n",
       "181    12.0\n",
       "198    16.0\n",
       "212    16.0\n",
       "216    16.0\n",
       "280    14.0\n",
       "294    14.0\n",
       "327    14.0\n",
       "359    17.0\n",
       "Name: Age, dtype: float64"
      ]
     },
     "execution_count": 11,
     "metadata": {},
     "output_type": "execute_result"
    }
   ],
   "source": [
    "filtered_data.Age[filtered_data.Age<18]"
   ]
  },
  {
   "cell_type": "markdown",
   "id": "0e674e74",
   "metadata": {
    "papermill": {
     "duration": 0.024859,
     "end_time": "2023-09-28T20:18:45.953670",
     "exception": false,
     "start_time": "2023-09-28T20:18:45.928811",
     "status": "completed"
    },
    "tags": []
   },
   "source": [
    "The test we use only works with adults. And the number of children is not that high, so we can extract from the data."
   ]
  },
  {
   "cell_type": "markdown",
   "id": "75105442",
   "metadata": {
    "papermill": {
     "duration": 0.02577,
     "end_time": "2023-09-28T20:18:46.005168",
     "exception": false,
     "start_time": "2023-09-28T20:18:45.979398",
     "status": "completed"
    },
    "tags": []
   },
   "source": [
    "All data size."
   ]
  },
  {
   "cell_type": "code",
   "execution_count": 12,
   "id": "6570e3df",
   "metadata": {
    "execution": {
     "iopub.execute_input": "2023-09-28T20:18:46.057230Z",
     "iopub.status.busy": "2023-09-28T20:18:46.056833Z",
     "iopub.status.idle": "2023-09-28T20:18:46.062942Z",
     "shell.execute_reply": "2023-09-28T20:18:46.062184Z"
    },
    "papermill": {
     "duration": 0.034534,
     "end_time": "2023-09-28T20:18:46.064988",
     "exception": false,
     "start_time": "2023-09-28T20:18:46.030454",
     "status": "completed"
    },
    "tags": []
   },
   "outputs": [
    {
     "data": {
      "text/plain": [
       "364"
      ]
     },
     "execution_count": 12,
     "metadata": {},
     "output_type": "execute_result"
    }
   ],
   "source": [
    "len(filtered_data)"
   ]
  },
  {
   "cell_type": "markdown",
   "id": "c2ad6b2f",
   "metadata": {
    "papermill": {
     "duration": 0.026696,
     "end_time": "2023-09-28T20:18:46.116935",
     "exception": false,
     "start_time": "2023-09-28T20:18:46.090239",
     "status": "completed"
    },
    "tags": []
   },
   "source": [
    "We extract patients who are less than 18 years old."
   ]
  },
  {
   "cell_type": "code",
   "execution_count": 13,
   "id": "26d1d3c3",
   "metadata": {
    "execution": {
     "iopub.execute_input": "2023-09-28T20:18:46.169479Z",
     "iopub.status.busy": "2023-09-28T20:18:46.168839Z",
     "iopub.status.idle": "2023-09-28T20:18:46.179275Z",
     "shell.execute_reply": "2023-09-28T20:18:46.178119Z"
    },
    "papermill": {
     "duration": 0.039229,
     "end_time": "2023-09-28T20:18:46.181436",
     "exception": false,
     "start_time": "2023-09-28T20:18:46.142207",
     "status": "completed"
    },
    "tags": []
   },
   "outputs": [],
   "source": [
    "data.drop(filtered_data[filtered_data['Age'] < 18].index,inplace=True)\n",
    "filtered_data.drop(filtered_data[filtered_data['Age'] < 18].index,inplace=True)\n",
    "filtered_data.reset_index(inplace=True)\n",
    "data.reset_index(inplace=True)"
   ]
  },
  {
   "cell_type": "markdown",
   "id": "1795211d",
   "metadata": {
    "papermill": {
     "duration": 0.024963,
     "end_time": "2023-09-28T20:18:46.231786",
     "exception": false,
     "start_time": "2023-09-28T20:18:46.206823",
     "status": "completed"
    },
    "tags": []
   },
   "source": [
    "Extracted data size."
   ]
  },
  {
   "cell_type": "code",
   "execution_count": 14,
   "id": "e85d879d",
   "metadata": {
    "execution": {
     "iopub.execute_input": "2023-09-28T20:18:46.283920Z",
     "iopub.status.busy": "2023-09-28T20:18:46.283523Z",
     "iopub.status.idle": "2023-09-28T20:18:46.290012Z",
     "shell.execute_reply": "2023-09-28T20:18:46.289041Z"
    },
    "papermill": {
     "duration": 0.035375,
     "end_time": "2023-09-28T20:18:46.292389",
     "exception": false,
     "start_time": "2023-09-28T20:18:46.257014",
     "status": "completed"
    },
    "tags": []
   },
   "outputs": [
    {
     "data": {
      "text/plain": [
       "338"
      ]
     },
     "execution_count": 14,
     "metadata": {},
     "output_type": "execute_result"
    }
   ],
   "source": [
    "len(filtered_data)"
   ]
  },
  {
   "cell_type": "markdown",
   "id": "25982be2",
   "metadata": {
    "papermill": {
     "duration": 0.024901,
     "end_time": "2023-09-28T20:18:46.342286",
     "exception": false,
     "start_time": "2023-09-28T20:18:46.317385",
     "status": "completed"
    },
    "tags": []
   },
   "source": [
    "---"
   ]
  },
  {
   "cell_type": "markdown",
   "id": "ad7eda94",
   "metadata": {
    "papermill": {
     "duration": 0.025028,
     "end_time": "2023-09-28T20:18:46.392793",
     "exception": false,
     "start_time": "2023-09-28T20:18:46.367765",
     "status": "completed"
    },
    "tags": []
   },
   "source": [
    "<a id=\"3\"></a>\n",
    "## Changing Data Type\n"
   ]
  },
  {
   "cell_type": "code",
   "execution_count": 15,
   "id": "5e450249",
   "metadata": {
    "execution": {
     "iopub.execute_input": "2023-09-28T20:18:46.445634Z",
     "iopub.status.busy": "2023-09-28T20:18:46.445203Z",
     "iopub.status.idle": "2023-09-28T20:18:46.458559Z",
     "shell.execute_reply": "2023-09-28T20:18:46.457371Z"
    },
    "papermill": {
     "duration": 0.042406,
     "end_time": "2023-09-28T20:18:46.460882",
     "exception": false,
     "start_time": "2023-09-28T20:18:46.418476",
     "status": "completed"
    },
    "tags": []
   },
   "outputs": [
    {
     "name": "stdout",
     "output_type": "stream",
     "text": [
      "<class 'pandas.core.frame.DataFrame'>\n",
      "RangeIndex: 338 entries, 0 to 337\n",
      "Data columns (total 13 columns):\n",
      " #   Column   Non-Null Count  Dtype  \n",
      "---  ------   --------------  -----  \n",
      " 0   index    338 non-null    int64  \n",
      " 1   S.No.    338 non-null    float64\n",
      " 2   Age      338 non-null    float64\n",
      " 3   Sex      338 non-null    float64\n",
      " 4   RBC      338 non-null    object \n",
      " 5   PCV      338 non-null    object \n",
      " 6   MCV      338 non-null    object \n",
      " 7   MCH      338 non-null    object \n",
      " 8   MCHC     338 non-null    float64\n",
      " 9   RDW      338 non-null    object \n",
      " 10  TLC      338 non-null    object \n",
      " 11  PLT/mm3  338 non-null    object \n",
      " 12  HGB      338 non-null    object \n",
      "dtypes: float64(4), int64(1), object(8)\n",
      "memory usage: 34.5+ KB\n"
     ]
    }
   ],
   "source": [
    "filtered_data.info()"
   ]
  },
  {
   "cell_type": "markdown",
   "id": "94294b89",
   "metadata": {
    "papermill": {
     "duration": 0.025088,
     "end_time": "2023-09-28T20:18:46.511789",
     "exception": false,
     "start_time": "2023-09-28T20:18:46.486701",
     "status": "completed"
    },
    "tags": []
   },
   "source": [
    "Here we change the data type of the data frame to float."
   ]
  },
  {
   "cell_type": "code",
   "execution_count": 16,
   "id": "fd0629af",
   "metadata": {
    "execution": {
     "iopub.execute_input": "2023-09-28T20:18:46.565139Z",
     "iopub.status.busy": "2023-09-28T20:18:46.564772Z",
     "iopub.status.idle": "2023-09-28T20:18:46.570394Z",
     "shell.execute_reply": "2023-09-28T20:18:46.569371Z"
    },
    "papermill": {
     "duration": 0.034572,
     "end_time": "2023-09-28T20:18:46.572611",
     "exception": false,
     "start_time": "2023-09-28T20:18:46.538039",
     "status": "completed"
    },
    "tags": []
   },
   "outputs": [],
   "source": [
    "filtered_data = filtered_data.astype(\"float64\")"
   ]
  },
  {
   "cell_type": "code",
   "execution_count": 17,
   "id": "971c2c40",
   "metadata": {
    "execution": {
     "iopub.execute_input": "2023-09-28T20:18:46.625074Z",
     "iopub.status.busy": "2023-09-28T20:18:46.624689Z",
     "iopub.status.idle": "2023-09-28T20:18:46.636793Z",
     "shell.execute_reply": "2023-09-28T20:18:46.635626Z"
    },
    "papermill": {
     "duration": 0.041619,
     "end_time": "2023-09-28T20:18:46.639519",
     "exception": false,
     "start_time": "2023-09-28T20:18:46.597900",
     "status": "completed"
    },
    "tags": []
   },
   "outputs": [
    {
     "name": "stdout",
     "output_type": "stream",
     "text": [
      "<class 'pandas.core.frame.DataFrame'>\n",
      "RangeIndex: 338 entries, 0 to 337\n",
      "Data columns (total 13 columns):\n",
      " #   Column   Non-Null Count  Dtype  \n",
      "---  ------   --------------  -----  \n",
      " 0   index    338 non-null    float64\n",
      " 1   S.No.    338 non-null    float64\n",
      " 2   Age      338 non-null    float64\n",
      " 3   Sex      338 non-null    float64\n",
      " 4   RBC      338 non-null    float64\n",
      " 5   PCV      338 non-null    float64\n",
      " 6   MCV      338 non-null    float64\n",
      " 7   MCH      338 non-null    float64\n",
      " 8   MCHC     338 non-null    float64\n",
      " 9   RDW      338 non-null    float64\n",
      " 10  TLC      338 non-null    float64\n",
      " 11  PLT/mm3  338 non-null    float64\n",
      " 12  HGB      338 non-null    float64\n",
      "dtypes: float64(13)\n",
      "memory usage: 34.5 KB\n"
     ]
    }
   ],
   "source": [
    "filtered_data.info()"
   ]
  },
  {
   "cell_type": "markdown",
   "id": "5fb14d47",
   "metadata": {
    "papermill": {
     "duration": 0.025196,
     "end_time": "2023-09-28T20:18:46.690613",
     "exception": false,
     "start_time": "2023-09-28T20:18:46.665417",
     "status": "completed"
    },
    "tags": []
   },
   "source": [
    "---"
   ]
  },
  {
   "cell_type": "markdown",
   "id": "06b7b812",
   "metadata": {
    "papermill": {
     "duration": 0.025609,
     "end_time": "2023-09-28T20:18:46.741784",
     "exception": false,
     "start_time": "2023-09-28T20:18:46.716175",
     "status": "completed"
    },
    "tags": []
   },
   "source": [
    "<a id=\"5\"></a>\n",
    "## Grouping the Data\n",
    "Here we divide our features according to this site\n",
    "https://www.compsim.com/demos/d60/Anemia.htm"
   ]
  },
  {
   "cell_type": "code",
   "execution_count": 18,
   "id": "c76bdc1f",
   "metadata": {
    "execution": {
     "iopub.execute_input": "2023-09-28T20:18:46.793742Z",
     "iopub.status.busy": "2023-09-28T20:18:46.793371Z",
     "iopub.status.idle": "2023-09-28T20:18:46.799983Z",
     "shell.execute_reply": "2023-09-28T20:18:46.798888Z"
    },
    "papermill": {
     "duration": 0.034943,
     "end_time": "2023-09-28T20:18:46.802226",
     "exception": false,
     "start_time": "2023-09-28T20:18:46.767283",
     "status": "completed"
    },
    "tags": []
   },
   "outputs": [
    {
     "data": {
      "text/plain": [
       "Index(['index', 'S.No.', 'Age', 'Sex', 'RBC', 'PCV', 'MCV', 'MCH', 'MCHC',\n",
       "       'RDW', 'TLC', 'PLT/mm3', 'HGB'],\n",
       "      dtype='object')"
      ]
     },
     "execution_count": 18,
     "metadata": {},
     "output_type": "execute_result"
    }
   ],
   "source": [
    "filtered_data.columns"
   ]
  },
  {
   "cell_type": "markdown",
   "id": "5faa89ae",
   "metadata": {
    "papermill": {
     "duration": 0.026031,
     "end_time": "2023-09-28T20:18:46.854030",
     "exception": false,
     "start_time": "2023-09-28T20:18:46.827999",
     "status": "completed"
    },
    "tags": []
   },
   "source": [
    "<a id=\"10\"></a>\n",
    "### Setting the Scale Gaps of Features."
   ]
  },
  {
   "cell_type": "code",
   "execution_count": 19,
   "id": "a51ff4b2",
   "metadata": {
    "execution": {
     "iopub.execute_input": "2023-09-28T20:18:46.920766Z",
     "iopub.status.busy": "2023-09-28T20:18:46.920313Z",
     "iopub.status.idle": "2023-09-28T20:18:46.941511Z",
     "shell.execute_reply": "2023-09-28T20:18:46.940654Z"
    },
    "papermill": {
     "duration": 0.060681,
     "end_time": "2023-09-28T20:18:46.943906",
     "exception": false,
     "start_time": "2023-09-28T20:18:46.883225",
     "status": "completed"
    },
    "tags": []
   },
   "outputs": [],
   "source": [
    "filtered_data[\"HGB\"]=[(2 if filtered_data[\"HGB\"][item] >15 else 0 if filtered_data[\"HGB\"][item] < 12 else 1) if filtered_data[\"Sex\"][item] == 0.0 else (2 if filtered_data[\"HGB\"][item] >14 else 0 if filtered_data[\"HGB\"][item] < 11 else 1) for item in range(len(filtered_data))]"
   ]
  },
  {
   "cell_type": "code",
   "execution_count": 20,
   "id": "ef32a10b",
   "metadata": {
    "execution": {
     "iopub.execute_input": "2023-09-28T20:18:47.006705Z",
     "iopub.status.busy": "2023-09-28T20:18:47.005889Z",
     "iopub.status.idle": "2023-09-28T20:18:47.027991Z",
     "shell.execute_reply": "2023-09-28T20:18:47.026907Z"
    },
    "papermill": {
     "duration": 0.052237,
     "end_time": "2023-09-28T20:18:47.030492",
     "exception": false,
     "start_time": "2023-09-28T20:18:46.978255",
     "status": "completed"
    },
    "tags": []
   },
   "outputs": [],
   "source": [
    "filtered_data[\"PCV\"]=[(2 if filtered_data[\"PCV\"][item] >48.6 else 0 if filtered_data[\"PCV\"][item] < 38.3 else 1) if filtered_data[\"Sex\"][item] == 0.0 else (2 if filtered_data[\"PCV\"][item] >44.9 else 0 if filtered_data[\"PCV\"][item] < 35.5 else 1) for item in range(len(filtered_data))]"
   ]
  },
  {
   "cell_type": "code",
   "execution_count": 21,
   "id": "88746f51",
   "metadata": {
    "execution": {
     "iopub.execute_input": "2023-09-28T20:18:47.093865Z",
     "iopub.status.busy": "2023-09-28T20:18:47.093087Z",
     "iopub.status.idle": "2023-09-28T20:18:47.098744Z",
     "shell.execute_reply": "2023-09-28T20:18:47.097837Z"
    },
    "papermill": {
     "duration": 0.043374,
     "end_time": "2023-09-28T20:18:47.101500",
     "exception": false,
     "start_time": "2023-09-28T20:18:47.058126",
     "status": "completed"
    },
    "tags": []
   },
   "outputs": [],
   "source": [
    "filtered_data[\"MCHC\"]=[2 if item >38 else 0 if item < 30 else 1 for item in filtered_data[\"MCHC\"]]"
   ]
  },
  {
   "cell_type": "code",
   "execution_count": 22,
   "id": "2783d69f",
   "metadata": {
    "execution": {
     "iopub.execute_input": "2023-09-28T20:18:47.164558Z",
     "iopub.status.busy": "2023-09-28T20:18:47.164125Z",
     "iopub.status.idle": "2023-09-28T20:18:47.170512Z",
     "shell.execute_reply": "2023-09-28T20:18:47.169570Z"
    },
    "papermill": {
     "duration": 0.038842,
     "end_time": "2023-09-28T20:18:47.172817",
     "exception": false,
     "start_time": "2023-09-28T20:18:47.133975",
     "status": "completed"
    },
    "tags": []
   },
   "outputs": [],
   "source": [
    "filtered_data[\"MCH\"]=[2 if item >35 else 0 if item < 25 else 1 for item in filtered_data[\"MCH\"]]"
   ]
  },
  {
   "cell_type": "code",
   "execution_count": 23,
   "id": "76d1b673",
   "metadata": {
    "execution": {
     "iopub.execute_input": "2023-09-28T20:18:47.227499Z",
     "iopub.status.busy": "2023-09-28T20:18:47.226717Z",
     "iopub.status.idle": "2023-09-28T20:18:47.241247Z",
     "shell.execute_reply": "2023-09-28T20:18:47.239709Z"
    },
    "papermill": {
     "duration": 0.045304,
     "end_time": "2023-09-28T20:18:47.244286",
     "exception": false,
     "start_time": "2023-09-28T20:18:47.198982",
     "status": "completed"
    },
    "tags": []
   },
   "outputs": [],
   "source": [
    "filtered_data[\"RDW\"]=[2 if item >16 else 0 if item < 12.5 else 1 for item in filtered_data[\"RDW\"]]"
   ]
  },
  {
   "cell_type": "code",
   "execution_count": 24,
   "id": "08f0b91e",
   "metadata": {
    "execution": {
     "iopub.execute_input": "2023-09-28T20:18:47.305283Z",
     "iopub.status.busy": "2023-09-28T20:18:47.304721Z",
     "iopub.status.idle": "2023-09-28T20:18:47.313764Z",
     "shell.execute_reply": "2023-09-28T20:18:47.312890Z"
    },
    "papermill": {
     "duration": 0.042132,
     "end_time": "2023-09-28T20:18:47.315936",
     "exception": false,
     "start_time": "2023-09-28T20:18:47.273804",
     "status": "completed"
    },
    "tags": []
   },
   "outputs": [],
   "source": [
    "filtered_data[\"PLT/mm3\"]=[2 if item >450 else 0 if item < 140 else 1 for item in filtered_data[\"PLT/mm3\"]]"
   ]
  },
  {
   "cell_type": "code",
   "execution_count": 25,
   "id": "a4781273",
   "metadata": {
    "execution": {
     "iopub.execute_input": "2023-09-28T20:18:47.377199Z",
     "iopub.status.busy": "2023-09-28T20:18:47.376310Z",
     "iopub.status.idle": "2023-09-28T20:18:47.383023Z",
     "shell.execute_reply": "2023-09-28T20:18:47.382072Z"
    },
    "papermill": {
     "duration": 0.037168,
     "end_time": "2023-09-28T20:18:47.385278",
     "exception": false,
     "start_time": "2023-09-28T20:18:47.348110",
     "status": "completed"
    },
    "tags": []
   },
   "outputs": [],
   "source": [
    "filtered_data[\"RBC\"]=[2 if item >5.8 else 0 if item < 4 else 1 for item in filtered_data[\"RBC\"]]"
   ]
  },
  {
   "cell_type": "code",
   "execution_count": 26,
   "id": "68150bb4",
   "metadata": {
    "execution": {
     "iopub.execute_input": "2023-09-28T20:18:47.440291Z",
     "iopub.status.busy": "2023-09-28T20:18:47.439394Z",
     "iopub.status.idle": "2023-09-28T20:18:47.446613Z",
     "shell.execute_reply": "2023-09-28T20:18:47.445587Z"
    },
    "papermill": {
     "duration": 0.037588,
     "end_time": "2023-09-28T20:18:47.448972",
     "exception": false,
     "start_time": "2023-09-28T20:18:47.411384",
     "status": "completed"
    },
    "tags": []
   },
   "outputs": [],
   "source": [
    "filtered_data[\"MCV\"]=[2 if item >115 else 0 if item < 75 else 1 for item in filtered_data[\"MCV\"]]"
   ]
  },
  {
   "cell_type": "code",
   "execution_count": 27,
   "id": "1e029df9",
   "metadata": {
    "execution": {
     "iopub.execute_input": "2023-09-28T20:18:47.504688Z",
     "iopub.status.busy": "2023-09-28T20:18:47.503726Z",
     "iopub.status.idle": "2023-09-28T20:18:47.510553Z",
     "shell.execute_reply": "2023-09-28T20:18:47.509571Z"
    },
    "papermill": {
     "duration": 0.037182,
     "end_time": "2023-09-28T20:18:47.512868",
     "exception": false,
     "start_time": "2023-09-28T20:18:47.475686",
     "status": "completed"
    },
    "tags": []
   },
   "outputs": [],
   "source": [
    "filtered_data[\"TLC\"]=[2 if item >11 else 0 if item < 3 else 1 for item in filtered_data[\"TLC\"]]"
   ]
  },
  {
   "cell_type": "code",
   "execution_count": 28,
   "id": "dbe80816",
   "metadata": {
    "execution": {
     "iopub.execute_input": "2023-09-28T20:18:47.568337Z",
     "iopub.status.busy": "2023-09-28T20:18:47.567388Z",
     "iopub.status.idle": "2023-09-28T20:18:47.574952Z",
     "shell.execute_reply": "2023-09-28T20:18:47.573868Z"
    },
    "papermill": {
     "duration": 0.037752,
     "end_time": "2023-09-28T20:18:47.577205",
     "exception": false,
     "start_time": "2023-09-28T20:18:47.539453",
     "status": "completed"
    },
    "tags": []
   },
   "outputs": [],
   "source": [
    "filtered_data[\"Age\"]=[3 if item >64 else 2 if item > 48 else 1 if item>32 else 0 for item in filtered_data[\"Age\"]]"
   ]
  },
  {
   "cell_type": "markdown",
   "id": "d7afc22a",
   "metadata": {
    "papermill": {
     "duration": 0.025768,
     "end_time": "2023-09-28T20:18:47.629598",
     "exception": false,
     "start_time": "2023-09-28T20:18:47.603830",
     "status": "completed"
    },
    "tags": []
   },
   "source": [
    "Extract data from our data frame that is not directly related to the disease."
   ]
  },
  {
   "cell_type": "code",
   "execution_count": 29,
   "id": "20a124a3",
   "metadata": {
    "execution": {
     "iopub.execute_input": "2023-09-28T20:18:47.684448Z",
     "iopub.status.busy": "2023-09-28T20:18:47.683496Z",
     "iopub.status.idle": "2023-09-28T20:18:47.692478Z",
     "shell.execute_reply": "2023-09-28T20:18:47.691474Z"
    },
    "papermill": {
     "duration": 0.039259,
     "end_time": "2023-09-28T20:18:47.694905",
     "exception": false,
     "start_time": "2023-09-28T20:18:47.655646",
     "status": "completed"
    },
    "tags": []
   },
   "outputs": [],
   "source": [
    "filtered_data2=filtered_data.drop([\"Age\",\"Sex\",\"S.No.\",\"index\"],axis=1,inplace=False)"
   ]
  },
  {
   "cell_type": "code",
   "execution_count": 30,
   "id": "920ba1ef",
   "metadata": {
    "execution": {
     "iopub.execute_input": "2023-09-28T20:18:47.750143Z",
     "iopub.status.busy": "2023-09-28T20:18:47.749221Z",
     "iopub.status.idle": "2023-09-28T20:18:47.764373Z",
     "shell.execute_reply": "2023-09-28T20:18:47.763363Z"
    },
    "papermill": {
     "duration": 0.045709,
     "end_time": "2023-09-28T20:18:47.766673",
     "exception": false,
     "start_time": "2023-09-28T20:18:47.720964",
     "status": "completed"
    },
    "tags": []
   },
   "outputs": [
    {
     "data": {
      "text/html": [
       "<div>\n",
       "<style scoped>\n",
       "    .dataframe tbody tr th:only-of-type {\n",
       "        vertical-align: middle;\n",
       "    }\n",
       "\n",
       "    .dataframe tbody tr th {\n",
       "        vertical-align: top;\n",
       "    }\n",
       "\n",
       "    .dataframe thead th {\n",
       "        text-align: right;\n",
       "    }\n",
       "</style>\n",
       "<table border=\"1\" class=\"dataframe\">\n",
       "  <thead>\n",
       "    <tr style=\"text-align: right;\">\n",
       "      <th></th>\n",
       "      <th>RBC</th>\n",
       "      <th>PCV</th>\n",
       "      <th>MCV</th>\n",
       "      <th>MCH</th>\n",
       "      <th>MCHC</th>\n",
       "      <th>RDW</th>\n",
       "      <th>TLC</th>\n",
       "      <th>PLT/mm3</th>\n",
       "      <th>HGB</th>\n",
       "    </tr>\n",
       "  </thead>\n",
       "  <tbody>\n",
       "    <tr>\n",
       "      <th>0</th>\n",
       "      <td>1</td>\n",
       "      <td>0</td>\n",
       "      <td>0</td>\n",
       "      <td>0</td>\n",
       "      <td>0</td>\n",
       "      <td>2</td>\n",
       "      <td>2</td>\n",
       "      <td>0</td>\n",
       "      <td>0</td>\n",
       "    </tr>\n",
       "    <tr>\n",
       "      <th>1</th>\n",
       "      <td>1</td>\n",
       "      <td>1</td>\n",
       "      <td>1</td>\n",
       "      <td>1</td>\n",
       "      <td>1</td>\n",
       "      <td>1</td>\n",
       "      <td>1</td>\n",
       "      <td>1</td>\n",
       "      <td>1</td>\n",
       "    </tr>\n",
       "    <tr>\n",
       "      <th>2</th>\n",
       "      <td>1</td>\n",
       "      <td>1</td>\n",
       "      <td>1</td>\n",
       "      <td>1</td>\n",
       "      <td>1</td>\n",
       "      <td>1</td>\n",
       "      <td>1</td>\n",
       "      <td>1</td>\n",
       "      <td>1</td>\n",
       "    </tr>\n",
       "    <tr>\n",
       "      <th>3</th>\n",
       "      <td>1</td>\n",
       "      <td>0</td>\n",
       "      <td>1</td>\n",
       "      <td>1</td>\n",
       "      <td>1</td>\n",
       "      <td>1</td>\n",
       "      <td>2</td>\n",
       "      <td>1</td>\n",
       "      <td>0</td>\n",
       "    </tr>\n",
       "    <tr>\n",
       "      <th>4</th>\n",
       "      <td>1</td>\n",
       "      <td>1</td>\n",
       "      <td>1</td>\n",
       "      <td>1</td>\n",
       "      <td>1</td>\n",
       "      <td>1</td>\n",
       "      <td>1</td>\n",
       "      <td>1</td>\n",
       "      <td>1</td>\n",
       "    </tr>\n",
       "  </tbody>\n",
       "</table>\n",
       "</div>"
      ],
      "text/plain": [
       "   RBC  PCV  MCV  MCH  MCHC  RDW  TLC  PLT/mm3  HGB\n",
       "0    1    0    0    0     0    2    2        0    0\n",
       "1    1    1    1    1     1    1    1        1    1\n",
       "2    1    1    1    1     1    1    1        1    1\n",
       "3    1    0    1    1     1    1    2        1    0\n",
       "4    1    1    1    1     1    1    1        1    1"
      ]
     },
     "execution_count": 30,
     "metadata": {},
     "output_type": "execute_result"
    }
   ],
   "source": [
    "filtered_data2.head()"
   ]
  },
  {
   "cell_type": "markdown",
   "id": "ae02ba63",
   "metadata": {
    "papermill": {
     "duration": 0.026758,
     "end_time": "2023-09-28T20:18:47.820174",
     "exception": false,
     "start_time": "2023-09-28T20:18:47.793416",
     "status": "completed"
    },
    "tags": []
   },
   "source": [
    "We use this function to diagnose patients according to the above intervals."
   ]
  },
  {
   "cell_type": "code",
   "execution_count": 31,
   "id": "536afd34",
   "metadata": {
    "execution": {
     "iopub.execute_input": "2023-09-28T20:18:47.875500Z",
     "iopub.status.busy": "2023-09-28T20:18:47.874587Z",
     "iopub.status.idle": "2023-09-28T20:18:47.881374Z",
     "shell.execute_reply": "2023-09-28T20:18:47.880294Z"
    },
    "papermill": {
     "duration": 0.03679,
     "end_time": "2023-09-28T20:18:47.883718",
     "exception": false,
     "start_time": "2023-09-28T20:18:47.846928",
     "status": "completed"
    },
    "tags": []
   },
   "outputs": [],
   "source": [
    "def find_diagnose(feature):\n",
    "    filtered_data2[\"diseased\"]=[1 if filtered_data2[feature][item] == 0 or filtered_data2[feature][item] == 2 else filtered_data2[\"diseased\"][item] for item in range(len(filtered_data2))]\n"
   ]
  },
  {
   "cell_type": "code",
   "execution_count": 32,
   "id": "ec2837fc",
   "metadata": {
    "execution": {
     "iopub.execute_input": "2023-09-28T20:18:47.938558Z",
     "iopub.status.busy": "2023-09-28T20:18:47.937627Z",
     "iopub.status.idle": "2023-09-28T20:18:48.049493Z",
     "shell.execute_reply": "2023-09-28T20:18:48.048425Z"
    },
    "papermill": {
     "duration": 0.142375,
     "end_time": "2023-09-28T20:18:48.052468",
     "exception": false,
     "start_time": "2023-09-28T20:18:47.910093",
     "status": "completed"
    },
    "tags": []
   },
   "outputs": [],
   "source": [
    "filtered_data2[\"diseased\"] = 0\n",
    "for item in filtered_data2.columns:\n",
    "    if(item!=\"diseased\"):\n",
    "        find_diagnose(item)"
   ]
  },
  {
   "cell_type": "markdown",
   "id": "1a1beac3",
   "metadata": {
    "papermill": {
     "duration": 0.027863,
     "end_time": "2023-09-28T20:18:48.108216",
     "exception": false,
     "start_time": "2023-09-28T20:18:48.080353",
     "status": "completed"
    },
    "tags": []
   },
   "source": [
    "---"
   ]
  },
  {
   "cell_type": "markdown",
   "id": "4e01b036",
   "metadata": {
    "papermill": {
     "duration": 0.029812,
     "end_time": "2023-09-28T20:18:48.172008",
     "exception": false,
     "start_time": "2023-09-28T20:18:48.142196",
     "status": "completed"
    },
    "tags": []
   },
   "source": [
    "<a id=\"6\"></a>\n",
    "# Plotting"
   ]
  },
  {
   "cell_type": "markdown",
   "id": "d04de8d3",
   "metadata": {
    "papermill": {
     "duration": 0.030095,
     "end_time": "2023-09-28T20:18:48.239801",
     "exception": false,
     "start_time": "2023-09-28T20:18:48.209706",
     "status": "completed"
    },
    "tags": []
   },
   "source": [
    "We added the newly found disease feature to our previous data to make a graph and examine our values."
   ]
  },
  {
   "cell_type": "code",
   "execution_count": 33,
   "id": "a84af832",
   "metadata": {
    "execution": {
     "iopub.execute_input": "2023-09-28T20:18:48.294808Z",
     "iopub.status.busy": "2023-09-28T20:18:48.294422Z",
     "iopub.status.idle": "2023-09-28T20:18:48.302200Z",
     "shell.execute_reply": "2023-09-28T20:18:48.301073Z"
    },
    "papermill": {
     "duration": 0.0384,
     "end_time": "2023-09-28T20:18:48.304667",
     "exception": false,
     "start_time": "2023-09-28T20:18:48.266267",
     "status": "completed"
    },
    "tags": []
   },
   "outputs": [],
   "source": [
    "data[\"diseased\"]=filtered_data2[\"diseased\"]\n",
    "filtered_data[\"diseased\"]=filtered_data2[\"diseased\"]\n",
    "data = data.astype(\"float64\")"
   ]
  },
  {
   "cell_type": "code",
   "execution_count": 34,
   "id": "60993335",
   "metadata": {
    "execution": {
     "iopub.execute_input": "2023-09-28T20:18:48.359369Z",
     "iopub.status.busy": "2023-09-28T20:18:48.358965Z",
     "iopub.status.idle": "2023-09-28T20:18:48.385098Z",
     "shell.execute_reply": "2023-09-28T20:18:48.384134Z"
    },
    "papermill": {
     "duration": 0.055679,
     "end_time": "2023-09-28T20:18:48.387214",
     "exception": false,
     "start_time": "2023-09-28T20:18:48.331535",
     "status": "completed"
    },
    "tags": []
   },
   "outputs": [
    {
     "data": {
      "text/html": [
       "<div>\n",
       "<style scoped>\n",
       "    .dataframe tbody tr th:only-of-type {\n",
       "        vertical-align: middle;\n",
       "    }\n",
       "\n",
       "    .dataframe tbody tr th {\n",
       "        vertical-align: top;\n",
       "    }\n",
       "\n",
       "    .dataframe thead th {\n",
       "        text-align: right;\n",
       "    }\n",
       "</style>\n",
       "<table border=\"1\" class=\"dataframe\">\n",
       "  <thead>\n",
       "    <tr style=\"text-align: right;\">\n",
       "      <th></th>\n",
       "      <th>index</th>\n",
       "      <th>S.No.</th>\n",
       "      <th>Age</th>\n",
       "      <th>Sex</th>\n",
       "      <th>RBC</th>\n",
       "      <th>PCV</th>\n",
       "      <th>MCV</th>\n",
       "      <th>MCH</th>\n",
       "      <th>MCHC</th>\n",
       "      <th>RDW</th>\n",
       "      <th>TLC</th>\n",
       "      <th>PLT/mm3</th>\n",
       "      <th>HGB</th>\n",
       "      <th>diseased</th>\n",
       "    </tr>\n",
       "  </thead>\n",
       "  <tbody>\n",
       "    <tr>\n",
       "      <th>0</th>\n",
       "      <td>0.0</td>\n",
       "      <td>1.0</td>\n",
       "      <td>28.0</td>\n",
       "      <td>0.0</td>\n",
       "      <td>5.66</td>\n",
       "      <td>34.0</td>\n",
       "      <td>60.1</td>\n",
       "      <td>17.0</td>\n",
       "      <td>28.2</td>\n",
       "      <td>20.0</td>\n",
       "      <td>11.10</td>\n",
       "      <td>128.3</td>\n",
       "      <td>9.6</td>\n",
       "      <td>1.0</td>\n",
       "    </tr>\n",
       "    <tr>\n",
       "      <th>1</th>\n",
       "      <td>1.0</td>\n",
       "      <td>2.0</td>\n",
       "      <td>41.0</td>\n",
       "      <td>0.0</td>\n",
       "      <td>4.78</td>\n",
       "      <td>44.5</td>\n",
       "      <td>93.1</td>\n",
       "      <td>28.9</td>\n",
       "      <td>31.0</td>\n",
       "      <td>13.0</td>\n",
       "      <td>7.02</td>\n",
       "      <td>419.0</td>\n",
       "      <td>13.8</td>\n",
       "      <td>0.0</td>\n",
       "    </tr>\n",
       "    <tr>\n",
       "      <th>2</th>\n",
       "      <td>2.0</td>\n",
       "      <td>3.0</td>\n",
       "      <td>40.0</td>\n",
       "      <td>1.0</td>\n",
       "      <td>4.65</td>\n",
       "      <td>41.6</td>\n",
       "      <td>89.5</td>\n",
       "      <td>28.8</td>\n",
       "      <td>32.2</td>\n",
       "      <td>13.0</td>\n",
       "      <td>8.09</td>\n",
       "      <td>325.0</td>\n",
       "      <td>13.4</td>\n",
       "      <td>0.0</td>\n",
       "    </tr>\n",
       "    <tr>\n",
       "      <th>3</th>\n",
       "      <td>3.0</td>\n",
       "      <td>4.0</td>\n",
       "      <td>76.0</td>\n",
       "      <td>0.0</td>\n",
       "      <td>4.24</td>\n",
       "      <td>36.7</td>\n",
       "      <td>86.6</td>\n",
       "      <td>26.7</td>\n",
       "      <td>30.8</td>\n",
       "      <td>14.9</td>\n",
       "      <td>13.41</td>\n",
       "      <td>264.0</td>\n",
       "      <td>11.3</td>\n",
       "      <td>1.0</td>\n",
       "    </tr>\n",
       "    <tr>\n",
       "      <th>4</th>\n",
       "      <td>4.0</td>\n",
       "      <td>5.0</td>\n",
       "      <td>20.0</td>\n",
       "      <td>1.0</td>\n",
       "      <td>4.14</td>\n",
       "      <td>36.9</td>\n",
       "      <td>89.1</td>\n",
       "      <td>27.8</td>\n",
       "      <td>31.2</td>\n",
       "      <td>13.2</td>\n",
       "      <td>4.75</td>\n",
       "      <td>196.0</td>\n",
       "      <td>11.5</td>\n",
       "      <td>0.0</td>\n",
       "    </tr>\n",
       "  </tbody>\n",
       "</table>\n",
       "</div>"
      ],
      "text/plain": [
       "   index  S.No.   Age  Sex   RBC   PCV   MCV   MCH  MCHC   RDW    TLC  \\\n",
       "0    0.0    1.0  28.0  0.0  5.66  34.0  60.1  17.0  28.2  20.0  11.10   \n",
       "1    1.0    2.0  41.0  0.0  4.78  44.5  93.1  28.9  31.0  13.0   7.02   \n",
       "2    2.0    3.0  40.0  1.0  4.65  41.6  89.5  28.8  32.2  13.0   8.09   \n",
       "3    3.0    4.0  76.0  0.0  4.24  36.7  86.6  26.7  30.8  14.9  13.41   \n",
       "4    4.0    5.0  20.0  1.0  4.14  36.9  89.1  27.8  31.2  13.2   4.75   \n",
       "\n",
       "   PLT/mm3   HGB  diseased  \n",
       "0    128.3   9.6       1.0  \n",
       "1    419.0  13.8       0.0  \n",
       "2    325.0  13.4       0.0  \n",
       "3    264.0  11.3       1.0  \n",
       "4    196.0  11.5       0.0  "
      ]
     },
     "execution_count": 34,
     "metadata": {},
     "output_type": "execute_result"
    }
   ],
   "source": [
    "data.head()"
   ]
  },
  {
   "cell_type": "code",
   "execution_count": 35,
   "id": "ea243edb",
   "metadata": {
    "execution": {
     "iopub.execute_input": "2023-09-28T20:18:48.441204Z",
     "iopub.status.busy": "2023-09-28T20:18:48.440762Z",
     "iopub.status.idle": "2023-09-28T20:18:48.455862Z",
     "shell.execute_reply": "2023-09-28T20:18:48.454396Z"
    },
    "papermill": {
     "duration": 0.045464,
     "end_time": "2023-09-28T20:18:48.458823",
     "exception": false,
     "start_time": "2023-09-28T20:18:48.413359",
     "status": "completed"
    },
    "tags": []
   },
   "outputs": [],
   "source": [
    "corr=data.corr().drop(['S.No.', 'Age', 'Sex', 'RBC', 'PCV', 'MCV', 'MCH', 'MCHC', 'RDW', 'TLC',\n",
    "       'PLT/mm3', 'HGB'],axis=1)\n",
    "corr=corr.drop([\"diseased\",'S.No.'],axis=0)"
   ]
  },
  {
   "cell_type": "code",
   "execution_count": 36,
   "id": "2b3b0fe6",
   "metadata": {
    "execution": {
     "iopub.execute_input": "2023-09-28T20:18:48.520761Z",
     "iopub.status.busy": "2023-09-28T20:18:48.519976Z",
     "iopub.status.idle": "2023-09-28T20:18:48.531834Z",
     "shell.execute_reply": "2023-09-28T20:18:48.530711Z"
    },
    "papermill": {
     "duration": 0.043734,
     "end_time": "2023-09-28T20:18:48.534524",
     "exception": false,
     "start_time": "2023-09-28T20:18:48.490790",
     "status": "completed"
    },
    "tags": []
   },
   "outputs": [
    {
     "data": {
      "text/html": [
       "<div>\n",
       "<style scoped>\n",
       "    .dataframe tbody tr th:only-of-type {\n",
       "        vertical-align: middle;\n",
       "    }\n",
       "\n",
       "    .dataframe tbody tr th {\n",
       "        vertical-align: top;\n",
       "    }\n",
       "\n",
       "    .dataframe thead th {\n",
       "        text-align: right;\n",
       "    }\n",
       "</style>\n",
       "<table border=\"1\" class=\"dataframe\">\n",
       "  <thead>\n",
       "    <tr style=\"text-align: right;\">\n",
       "      <th></th>\n",
       "      <th>index</th>\n",
       "      <th>diseased</th>\n",
       "    </tr>\n",
       "  </thead>\n",
       "  <tbody>\n",
       "    <tr>\n",
       "      <th>index</th>\n",
       "      <td>1.000000</td>\n",
       "      <td>0.007529</td>\n",
       "    </tr>\n",
       "    <tr>\n",
       "      <th>Age</th>\n",
       "      <td>-0.001488</td>\n",
       "      <td>0.175140</td>\n",
       "    </tr>\n",
       "    <tr>\n",
       "      <th>Sex</th>\n",
       "      <td>0.106251</td>\n",
       "      <td>0.071761</td>\n",
       "    </tr>\n",
       "    <tr>\n",
       "      <th>RBC</th>\n",
       "      <td>-0.008885</td>\n",
       "      <td>-0.219272</td>\n",
       "    </tr>\n",
       "    <tr>\n",
       "      <th>PCV</th>\n",
       "      <td>0.006406</td>\n",
       "      <td>-0.323698</td>\n",
       "    </tr>\n",
       "    <tr>\n",
       "      <th>MCV</th>\n",
       "      <td>-0.012648</td>\n",
       "      <td>-0.078948</td>\n",
       "    </tr>\n",
       "    <tr>\n",
       "      <th>MCH</th>\n",
       "      <td>0.150259</td>\n",
       "      <td>-0.037811</td>\n",
       "    </tr>\n",
       "    <tr>\n",
       "      <th>MCHC</th>\n",
       "      <td>0.197904</td>\n",
       "      <td>0.047310</td>\n",
       "    </tr>\n",
       "    <tr>\n",
       "      <th>RDW</th>\n",
       "      <td>-0.124502</td>\n",
       "      <td>0.292969</td>\n",
       "    </tr>\n",
       "    <tr>\n",
       "      <th>TLC</th>\n",
       "      <td>0.024247</td>\n",
       "      <td>0.165078</td>\n",
       "    </tr>\n",
       "    <tr>\n",
       "      <th>PLT/mm3</th>\n",
       "      <td>0.006834</td>\n",
       "      <td>0.028366</td>\n",
       "    </tr>\n",
       "    <tr>\n",
       "      <th>HGB</th>\n",
       "      <td>0.112055</td>\n",
       "      <td>-0.282156</td>\n",
       "    </tr>\n",
       "  </tbody>\n",
       "</table>\n",
       "</div>"
      ],
      "text/plain": [
       "            index  diseased\n",
       "index    1.000000  0.007529\n",
       "Age     -0.001488  0.175140\n",
       "Sex      0.106251  0.071761\n",
       "RBC     -0.008885 -0.219272\n",
       "PCV      0.006406 -0.323698\n",
       "MCV     -0.012648 -0.078948\n",
       "MCH      0.150259 -0.037811\n",
       "MCHC     0.197904  0.047310\n",
       "RDW     -0.124502  0.292969\n",
       "TLC      0.024247  0.165078\n",
       "PLT/mm3  0.006834  0.028366\n",
       "HGB      0.112055 -0.282156"
      ]
     },
     "execution_count": 36,
     "metadata": {},
     "output_type": "execute_result"
    }
   ],
   "source": [
    "corr.head(corr.size)"
   ]
  },
  {
   "cell_type": "markdown",
   "id": "83358191",
   "metadata": {
    "papermill": {
     "duration": 0.02697,
     "end_time": "2023-09-28T20:18:48.593385",
     "exception": false,
     "start_time": "2023-09-28T20:18:48.566415",
     "status": "completed"
    },
    "tags": []
   },
   "source": [
    "Effects of feature's on disease."
   ]
  },
  {
   "cell_type": "code",
   "execution_count": 37,
   "id": "f0b36c35",
   "metadata": {
    "execution": {
     "iopub.execute_input": "2023-09-28T20:18:48.648228Z",
     "iopub.status.busy": "2023-09-28T20:18:48.647101Z",
     "iopub.status.idle": "2023-09-28T20:18:49.094146Z",
     "shell.execute_reply": "2023-09-28T20:18:49.093265Z"
    },
    "papermill": {
     "duration": 0.47711,
     "end_time": "2023-09-28T20:18:49.096591",
     "exception": false,
     "start_time": "2023-09-28T20:18:48.619481",
     "status": "completed"
    },
    "tags": []
   },
   "outputs": [
    {
     "data": {
      "image/png": "[encoded data removed]",
      "text/plain": [
       "<Figure size 500x500 with 2 Axes>"
      ]
     },
     "metadata": {},
     "output_type": "display_data"
    }
   ],
   "source": [
    "f,ax = plt.subplots(figsize=(5, 5))\n",
    "sns.heatmap(corr, annot=True, linewidths=.5, fmt= '.5f',ax=ax,)\n",
    "plt.show()"
   ]
  },
  {
   "cell_type": "markdown",
   "id": "c2401ce9",
   "metadata": {
    "papermill": {
     "duration": 0.027092,
     "end_time": "2023-09-28T20:18:49.151909",
     "exception": false,
     "start_time": "2023-09-28T20:18:49.124817",
     "status": "completed"
    },
    "tags": []
   },
   "source": [
    "Effects of feature's on each other."
   ]
  },
  {
   "cell_type": "code",
   "execution_count": 38,
   "id": "3cc1956e",
   "metadata": {
    "execution": {
     "iopub.execute_input": "2023-09-28T20:18:49.208734Z",
     "iopub.status.busy": "2023-09-28T20:18:49.207640Z",
     "iopub.status.idle": "2023-09-28T20:18:50.079527Z",
     "shell.execute_reply": "2023-09-28T20:18:50.078551Z"
    },
    "papermill": {
     "duration": 0.904041,
     "end_time": "2023-09-28T20:18:50.083224",
     "exception": false,
     "start_time": "2023-09-28T20:18:49.179183",
     "status": "completed"
    },
    "tags": []
   },
   "outputs": [
    {
     "data": {
      "image/png": "[encoded data removed]",
      "text/plain": [
       "<Figure size 900x900 with 2 Axes>"
      ]
     },
     "metadata": {},
     "output_type": "display_data"
    }
   ],
   "source": [
    "f,ax = plt.subplots(figsize=(9, 9))\n",
    "sns.heatmap(data.corr(), annot=True, linewidths=.5, fmt= '.1f',ax=ax,)\n",
    "plt.show()"
   ]
  },
  {
   "cell_type": "code",
   "execution_count": 39,
   "id": "a404f204",
   "metadata": {
    "execution": {
     "iopub.execute_input": "2023-09-28T20:18:50.144155Z",
     "iopub.status.busy": "2023-09-28T20:18:50.143796Z",
     "iopub.status.idle": "2023-09-28T20:18:50.151061Z",
     "shell.execute_reply": "2023-09-28T20:18:50.149889Z"
    },
    "papermill": {
     "duration": 0.040887,
     "end_time": "2023-09-28T20:18:50.153489",
     "exception": false,
     "start_time": "2023-09-28T20:18:50.112602",
     "status": "completed"
    },
    "tags": []
   },
   "outputs": [],
   "source": [
    "def scatter_plot(names):\n",
    "    plt.scatter(data[names[0]][data[\"diseased\"]==1],data[names[1]][data[\"diseased\"]==1],color=\"red\",alpha=0.5,label=\"diseased\")\n",
    "    plt.scatter(data[names[0]][data[\"diseased\"]==0],data[names[1]][data[\"diseased\"]==0],color=\"blue\",alpha=0.6,label=\"not diseased\")\n",
    "    plt.xlabel(names[0])\n",
    "    plt.ylabel(names[1])\n",
    "    plt.legend()"
   ]
  },
  {
   "cell_type": "markdown",
   "id": "636462a2",
   "metadata": {
    "papermill": {
     "duration": 0.029066,
     "end_time": "2023-09-28T20:18:50.212048",
     "exception": false,
     "start_time": "2023-09-28T20:18:50.182982",
     "status": "completed"
    },
    "tags": []
   },
   "source": [
    "The graphs in which we examine in which intervals the most relevant featurettes are diseased or not. "
   ]
  },
  {
   "cell_type": "code",
   "execution_count": 40,
   "id": "e6f5ee48",
   "metadata": {
    "execution": {
     "iopub.execute_input": "2023-09-28T20:18:50.272833Z",
     "iopub.status.busy": "2023-09-28T20:18:50.272476Z",
     "iopub.status.idle": "2023-09-28T20:18:51.638886Z",
     "shell.execute_reply": "2023-09-28T20:18:51.637822Z"
    },
    "papermill": {
     "duration": 1.401726,
     "end_time": "2023-09-28T20:18:51.643716",
     "exception": false,
     "start_time": "2023-09-28T20:18:50.241990",
     "status": "completed"
    },
    "tags": []
   },
   "outputs": [
    {
     "data": {
      "image/png": "[encoded data removed]",
      "text/plain": [
       "<Figure size 1000x1000 with 4 Axes>"
      ]
     },
     "metadata": {},
     "output_type": "display_data"
    }
   ],
   "source": [
    "plt.subplots(figsize=(10, 10))\n",
    "plt.subplot(2, 2, 1)\n",
    "scatter_plot([\"RBC\",\"PCV\"])\n",
    "plt.subplot(2, 2, 2)\n",
    "scatter_plot([\"MCH\",\"MCV\"])\n",
    "plt.subplot(2, 2, 3)\n",
    "scatter_plot([\"HGB\",\"PCV\"])\n",
    "plt.subplot(2, 2, 4)\n",
    "scatter_plot([\"HGB\",\"RBC\"])\n",
    "plt.tight_layout()\n",
    "plt.show()"
   ]
  },
  {
   "cell_type": "markdown",
   "id": "bcbe1f30",
   "metadata": {
    "papermill": {
     "duration": 0.032035,
     "end_time": "2023-09-28T20:18:51.708569",
     "exception": false,
     "start_time": "2023-09-28T20:18:51.676534",
     "status": "completed"
    },
    "tags": []
   },
   "source": [
    "Disease graph separated according to age groups."
   ]
  },
  {
   "cell_type": "code",
   "execution_count": 41,
   "id": "e63907cf",
   "metadata": {
    "execution": {
     "iopub.execute_input": "2023-09-28T20:18:51.776399Z",
     "iopub.status.busy": "2023-09-28T20:18:51.775571Z",
     "iopub.status.idle": "2023-09-28T20:18:52.142462Z",
     "shell.execute_reply": "2023-09-28T20:18:52.141303Z"
    },
    "papermill": {
     "duration": 0.402884,
     "end_time": "2023-09-28T20:18:52.145084",
     "exception": false,
     "start_time": "2023-09-28T20:18:51.742200",
     "status": "completed"
    },
    "tags": []
   },
   "outputs": [
    {
     "data": {
      "image/png": "[encoded data removed]",
      "text/plain": [
       "<Figure size 640x480 with 1 Axes>"
      ]
     },
     "metadata": {},
     "output_type": "display_data"
    }
   ],
   "source": [
    "sns.barplot(filtered_data,x=\"Age\",y=\"diseased\")\n",
    "plt.xticks(ticks=(0,1,2,3),labels=(\"18-32\",\"32-48\",\"48-64\",\"64-\"))\n",
    "plt.xlabel(\"Age groups\")\n",
    "plt.ylabel(\"diseased\")\n",
    "plt.show()"
   ]
  },
  {
   "cell_type": "markdown",
   "id": "911d0b1d",
   "metadata": {
    "papermill": {
     "duration": 0.032579,
     "end_time": "2023-09-28T20:18:52.211278",
     "exception": false,
     "start_time": "2023-09-28T20:18:52.178699",
     "status": "completed"
    },
    "tags": []
   },
   "source": [
    "Disease graph separated according to sex."
   ]
  },
  {
   "cell_type": "code",
   "execution_count": 42,
   "id": "c0428b0f",
   "metadata": {
    "execution": {
     "iopub.execute_input": "2023-09-28T20:18:52.279657Z",
     "iopub.status.busy": "2023-09-28T20:18:52.278910Z",
     "iopub.status.idle": "2023-09-28T20:18:52.544836Z",
     "shell.execute_reply": "2023-09-28T20:18:52.543703Z"
    },
    "papermill": {
     "duration": 0.30256,
     "end_time": "2023-09-28T20:18:52.547269",
     "exception": false,
     "start_time": "2023-09-28T20:18:52.244709",
     "status": "completed"
    },
    "tags": []
   },
   "outputs": [
    {
     "data": {
      "image/png": "[encoded data removed]",
      "text/plain": [
       "<Figure size 640x480 with 1 Axes>"
      ]
     },
     "metadata": {},
     "output_type": "display_data"
    }
   ],
   "source": [
    "sns.barplot(data,x=\"Sex\",y=\"diseased\")\n",
    "plt.xticks(ticks=(0,1),labels=(\"Male\",\"Female\"))\n",
    "plt.xlabel(\"Sex\")\n",
    "plt.ylabel(\"diseased\")\n",
    "plt.show()"
   ]
  },
  {
   "cell_type": "markdown",
   "id": "88384af5",
   "metadata": {
    "papermill": {
     "duration": 0.032632,
     "end_time": "2023-09-28T20:18:52.612844",
     "exception": false,
     "start_time": "2023-09-28T20:18:52.580212",
     "status": "completed"
    },
    "tags": []
   },
   "source": [
    "Percentages of anemia types by sex."
   ]
  },
  {
   "cell_type": "code",
   "execution_count": 43,
   "id": "9fc9dc33",
   "metadata": {
    "_kg_hide-output": true,
    "execution": {
     "iopub.execute_input": "2023-09-28T20:18:52.681398Z",
     "iopub.status.busy": "2023-09-28T20:18:52.680953Z",
     "iopub.status.idle": "2023-09-28T20:18:52.693924Z",
     "shell.execute_reply": "2023-09-28T20:18:52.692784Z"
    },
    "papermill": {
     "duration": 0.049745,
     "end_time": "2023-09-28T20:18:52.696141",
     "exception": false,
     "start_time": "2023-09-28T20:18:52.646396",
     "status": "completed"
    },
    "tags": []
   },
   "outputs": [
    {
     "name": "stdout",
     "output_type": "stream",
     "text": [
      "when sex is female\n",
      "mild anemia count is : 68\n",
      "normal anemia count is : 82\n",
      "mild anemia count is : 0.44155844155844154\n"
     ]
    }
   ],
   "source": [
    "female_mild_anemia=filtered_data[(filtered_data.Sex==1.0) & (filtered_data.HGB==0)][filtered_data.columns[0]].count()\n",
    "female_normal_anemia=filtered_data[(filtered_data.Sex==1.0) & (filtered_data.HGB==1)][filtered_data.columns[0]].count()\n",
    "female_anemia=filtered_data[filtered_data.Sex==1.0][\"S.No.\"].count()\n",
    "\n",
    "print(\"when sex is female\")\n",
    "print(\"mild anemia count is :\",female_mild_anemia)\n",
    "print(\"normal anemia count is :\",female_normal_anemia)\n",
    "print(\"mild anemia count is :\",female_mild_anemia/female_anemia)"
   ]
  },
  {
   "cell_type": "code",
   "execution_count": 44,
   "id": "23ca3c03",
   "metadata": {
    "execution": {
     "iopub.execute_input": "2023-09-28T20:18:52.765026Z",
     "iopub.status.busy": "2023-09-28T20:18:52.764008Z",
     "iopub.status.idle": "2023-09-28T20:18:52.775698Z",
     "shell.execute_reply": "2023-09-28T20:18:52.774915Z"
    },
    "papermill": {
     "duration": 0.048628,
     "end_time": "2023-09-28T20:18:52.778147",
     "exception": false,
     "start_time": "2023-09-28T20:18:52.729519",
     "status": "completed"
    },
    "tags": []
   },
   "outputs": [
    {
     "name": "stdout",
     "output_type": "stream",
     "text": [
      "when sex is male\n",
      "mild anemia count is : 54\n",
      "normal anemia count is : 112\n",
      "mild anemia count is : 0.29347826086956524\n"
     ]
    }
   ],
   "source": [
    "male_mild_anemia=filtered_data[(filtered_data.Sex==0.0) & (filtered_data.HGB==0)][filtered_data.columns[0]].count()\n",
    "male_normal_anemia=filtered_data[(filtered_data.Sex==0.0) & (filtered_data.HGB==1)][filtered_data.columns[0]].count()\n",
    "male_anemia=filtered_data[filtered_data.Sex==0.0][\"S.No.\"].count()\n",
    "\n",
    "print(\"when sex is male\")\n",
    "print(\"mild anemia count is :\",male_mild_anemia)\n",
    "print(\"normal anemia count is :\",male_normal_anemia)\n",
    "print(\"mild anemia count is :\",male_mild_anemia/male_anemia)"
   ]
  },
  {
   "cell_type": "markdown",
   "id": "aa7db42f",
   "metadata": {
    "papermill": {
     "duration": 0.033164,
     "end_time": "2023-09-28T20:18:52.844512",
     "exception": false,
     "start_time": "2023-09-28T20:18:52.811348",
     "status": "completed"
    },
    "tags": []
   },
   "source": [
    "---"
   ]
  },
  {
   "cell_type": "markdown",
   "id": "b137300f",
   "metadata": {
    "papermill": {
     "duration": 0.032707,
     "end_time": "2023-09-28T20:18:52.910734",
     "exception": false,
     "start_time": "2023-09-28T20:18:52.878027",
     "status": "completed"
    },
    "tags": []
   },
   "source": [
    "<a id=\"7\"></a>\n",
    "# Creating Model and Testing"
   ]
  },
  {
   "cell_type": "markdown",
   "id": "7fdc100e",
   "metadata": {
    "papermill": {
     "duration": 0.03242,
     "end_time": "2023-09-28T20:18:52.976256",
     "exception": false,
     "start_time": "2023-09-28T20:18:52.943836",
     "status": "completed"
    },
    "tags": []
   },
   "source": [
    "<a id=\"8\"></a>\n",
    "## Creating Train and Test Data"
   ]
  },
  {
   "cell_type": "code",
   "execution_count": 45,
   "id": "e3a3588b",
   "metadata": {
    "execution": {
     "iopub.execute_input": "2023-09-28T20:18:53.045946Z",
     "iopub.status.busy": "2023-09-28T20:18:53.045564Z",
     "iopub.status.idle": "2023-09-28T20:18:53.050686Z",
     "shell.execute_reply": "2023-09-28T20:18:53.049592Z"
    },
    "papermill": {
     "duration": 0.042163,
     "end_time": "2023-09-28T20:18:53.052895",
     "exception": false,
     "start_time": "2023-09-28T20:18:53.010732",
     "status": "completed"
    },
    "tags": []
   },
   "outputs": [],
   "source": [
    "y = filtered_data2.diseased"
   ]
  },
  {
   "cell_type": "code",
   "execution_count": 46,
   "id": "cf378815",
   "metadata": {
    "execution": {
     "iopub.execute_input": "2023-09-28T20:18:53.120267Z",
     "iopub.status.busy": "2023-09-28T20:18:53.119869Z",
     "iopub.status.idle": "2023-09-28T20:18:53.126538Z",
     "shell.execute_reply": "2023-09-28T20:18:53.125460Z"
    },
    "papermill": {
     "duration": 0.043343,
     "end_time": "2023-09-28T20:18:53.128736",
     "exception": false,
     "start_time": "2023-09-28T20:18:53.085393",
     "status": "completed"
    },
    "tags": []
   },
   "outputs": [],
   "source": [
    "x = filtered_data2.drop([\"diseased\"],axis=1)"
   ]
  },
  {
   "cell_type": "code",
   "execution_count": 47,
   "id": "b0b87804",
   "metadata": {
    "execution": {
     "iopub.execute_input": "2023-09-28T20:18:53.200268Z",
     "iopub.status.busy": "2023-09-28T20:18:53.199253Z",
     "iopub.status.idle": "2023-09-28T20:18:53.207603Z",
     "shell.execute_reply": "2023-09-28T20:18:53.206546Z"
    },
    "papermill": {
     "duration": 0.045592,
     "end_time": "2023-09-28T20:18:53.210155",
     "exception": false,
     "start_time": "2023-09-28T20:18:53.164563",
     "status": "completed"
    },
    "tags": []
   },
   "outputs": [],
   "source": [
    "from sklearn.model_selection import train_test_split\n",
    "\n",
    "x_train, x_test, y_train, y_test = train_test_split(x,y,test_size=0.3,random_state=42)"
   ]
  },
  {
   "cell_type": "code",
   "execution_count": 48,
   "id": "139ed331",
   "metadata": {
    "execution": {
     "iopub.execute_input": "2023-09-28T20:18:53.279544Z",
     "iopub.status.busy": "2023-09-28T20:18:53.278713Z",
     "iopub.status.idle": "2023-09-28T20:18:53.286212Z",
     "shell.execute_reply": "2023-09-28T20:18:53.285319Z"
    },
    "papermill": {
     "duration": 0.044311,
     "end_time": "2023-09-28T20:18:53.288553",
     "exception": false,
     "start_time": "2023-09-28T20:18:53.244242",
     "status": "completed"
    },
    "tags": []
   },
   "outputs": [
    {
     "data": {
      "text/plain": [
       "((236, 9), (102, 9), (236,), (102,))"
      ]
     },
     "execution_count": 48,
     "metadata": {},
     "output_type": "execute_result"
    }
   ],
   "source": [
    "x_train.shape, x_test.shape, y_train.shape, y_test.shape"
   ]
  },
  {
   "cell_type": "markdown",
   "id": "a979bfee",
   "metadata": {
    "papermill": {
     "duration": 0.032632,
     "end_time": "2023-09-28T20:18:53.354193",
     "exception": false,
     "start_time": "2023-09-28T20:18:53.321561",
     "status": "completed"
    },
    "tags": []
   },
   "source": [
    "---"
   ]
  },
  {
   "cell_type": "markdown",
   "id": "826421d1",
   "metadata": {
    "papermill": {
     "duration": 0.033033,
     "end_time": "2023-09-28T20:18:53.420458",
     "exception": false,
     "start_time": "2023-09-28T20:18:53.387425",
     "status": "completed"
    },
    "tags": []
   },
   "source": [
    "<a id=\"9\"></a>\n",
    "## Testing the Model"
   ]
  },
  {
   "cell_type": "markdown",
   "id": "0c77f460",
   "metadata": {
    "papermill": {
     "duration": 0.033033,
     "end_time": "2023-09-28T20:18:53.487033",
     "exception": false,
     "start_time": "2023-09-28T20:18:53.454000",
     "status": "completed"
    },
    "tags": []
   },
   "source": [
    "Testing data using Random Forest"
   ]
  },
  {
   "cell_type": "code",
   "execution_count": 49,
   "id": "52c1afd9",
   "metadata": {
    "execution": {
     "iopub.execute_input": "2023-09-28T20:18:53.556467Z",
     "iopub.status.busy": "2023-09-28T20:18:53.555793Z",
     "iopub.status.idle": "2023-09-28T20:18:53.787264Z",
     "shell.execute_reply": "2023-09-28T20:18:53.785703Z"
    },
    "papermill": {
     "duration": 0.269262,
     "end_time": "2023-09-28T20:18:53.790092",
     "exception": false,
     "start_time": "2023-09-28T20:18:53.520830",
     "status": "completed"
    },
    "tags": []
   },
   "outputs": [
    {
     "name": "stdout",
     "output_type": "stream",
     "text": [
      "% 100.0\n"
     ]
    }
   ],
   "source": [
    "random_forest = RandomForestClassifier(n_estimators=100)\n",
    "random_forest.fit(x_train, y_train)\n",
    "y_pred = random_forest.predict(x_test)\n",
    "print(\"%\",r2_score(y_test,y_pred)*100)"
   ]
  },
  {
   "cell_type": "markdown",
   "id": "c7fcd13f",
   "metadata": {
    "papermill": {
     "duration": 0.032543,
     "end_time": "2023-09-28T20:18:53.855682",
     "exception": false,
     "start_time": "2023-09-28T20:18:53.823139",
     "status": "completed"
    },
    "tags": []
   },
   "source": [
    "We are using Confuison Matrix to plot are Random Forest predictions."
   ]
  },
  {
   "cell_type": "code",
   "execution_count": 50,
   "id": "de6ff771",
   "metadata": {
    "execution": {
     "iopub.execute_input": "2023-09-28T20:18:53.925780Z",
     "iopub.status.busy": "2023-09-28T20:18:53.925071Z",
     "iopub.status.idle": "2023-09-28T20:18:54.275465Z",
     "shell.execute_reply": "2023-09-28T20:18:54.274204Z"
    },
    "papermill": {
     "duration": 0.388367,
     "end_time": "2023-09-28T20:18:54.277868",
     "exception": false,
     "start_time": "2023-09-28T20:18:53.889501",
     "status": "completed"
    },
    "tags": []
   },
   "outputs": [
    {
     "data": {
      "image/png": "[encoded data removed]",
      "text/plain": [
       "<Figure size 640x480 with 2 Axes>"
      ]
     },
     "metadata": {},
     "output_type": "display_data"
    }
   ],
   "source": [
    "cm = confusion_matrix(y_test,y_pred)\n",
    "ax= plt.subplot()\n",
    "sns.heatmap(cm, annot=True, fmt='g', ax=ax);\n",
    "ax.set_xlabel('Predicted labels');ax.set_ylabel('True labels'); \n",
    "ax.set_title('Confusion Matrix'); \n",
    "ax.xaxis.set_ticklabels(['diseased','not diseased']); ax.yaxis.set_ticklabels(['diseased','not diseased']);"
   ]
  },
  {
   "cell_type": "markdown",
   "id": "62e2fdbe",
   "metadata": {
    "papermill": {
     "duration": 0.034469,
     "end_time": "2023-09-28T20:18:54.347086",
     "exception": false,
     "start_time": "2023-09-28T20:18:54.312617",
     "status": "completed"
    },
    "tags": []
   },
   "source": [
    "Testing data using KNN."
   ]
  },
  {
   "cell_type": "code",
   "execution_count": 51,
   "id": "67ede5ba",
   "metadata": {
    "execution": {
     "iopub.execute_input": "2023-09-28T20:18:54.417405Z",
     "iopub.status.busy": "2023-09-28T20:18:54.416283Z",
     "iopub.status.idle": "2023-09-28T20:18:54.437722Z",
     "shell.execute_reply": "2023-09-28T20:18:54.436427Z"
    },
    "papermill": {
     "duration": 0.059865,
     "end_time": "2023-09-28T20:18:54.441036",
     "exception": false,
     "start_time": "2023-09-28T20:18:54.381171",
     "status": "completed"
    },
    "tags": []
   },
   "outputs": [
    {
     "name": "stdout",
     "output_type": "stream",
     "text": [
      "% 100.0\n"
     ]
    }
   ],
   "source": [
    "knn = KNeighborsClassifier(n_neighbors = 1)\n",
    "knn.fit(x_train, y_train)\n",
    "y_pred = knn.predict(x_test)\n",
    "print(\"%\",r2_score(y_test,y_pred)*100)"
   ]
  },
  {
   "cell_type": "markdown",
   "id": "75811a0d",
   "metadata": {
    "papermill": {
     "duration": 0.035242,
     "end_time": "2023-09-28T20:18:54.512792",
     "exception": false,
     "start_time": "2023-09-28T20:18:54.477550",
     "status": "completed"
    },
    "tags": []
   },
   "source": [
    "We are using Confuison Matrix to plot are KNN predictions."
   ]
  },
  {
   "cell_type": "code",
   "execution_count": 52,
   "id": "b6723320",
   "metadata": {
    "execution": {
     "iopub.execute_input": "2023-09-28T20:18:54.584147Z",
     "iopub.status.busy": "2023-09-28T20:18:54.583728Z",
     "iopub.status.idle": "2023-09-28T20:18:54.930949Z",
     "shell.execute_reply": "2023-09-28T20:18:54.930076Z"
    },
    "papermill": {
     "duration": 0.384676,
     "end_time": "2023-09-28T20:18:54.933216",
     "exception": false,
     "start_time": "2023-09-28T20:18:54.548540",
     "status": "completed"
    },
    "tags": []
   },
   "outputs": [
    {
     "data": {
      "image/png": "[encoded data removed]",
      "text/plain": [
       "<Figure size 640x480 with 2 Axes>"
      ]
     },
     "metadata": {},
     "output_type": "display_data"
    }
   ],
   "source": [
    "cm = confusion_matrix(y_test,y_pred)\n",
    "ax= plt.subplot()\n",
    "sns.heatmap(cm, annot=True, fmt='g', ax=ax);\n",
    "ax.set_xlabel('Predicted labels');ax.set_ylabel('True labels'); \n",
    "ax.set_title('Confusion Matrix'); \n",
    "ax.xaxis.set_ticklabels(['diseased','not diseased']); ax.yaxis.set_ticklabels(['diseased','not diseased']);"
   ]
  }
 ],
 "metadata": {
  "kernelspec": {
   "display_name": "Python 3",
   "language": "python",
   "name": "python3"
  },
  "language_info": {
   "codemirror_mode": {
    "name": "ipython",
    "version": 3
   },
   "file_extension": ".py",
   "mimetype": "text/x-python",
   "name": "python",
   "nbconvert_exporter": "python",
   "pygments_lexer": "ipython3",
   "version": "3.10.12"
  },
  "papermill": {
   "default_parameters": {},
   "duration": 17.030223,
   "end_time": "2023-09-28T20:18:55.587982",
   "environment_variables": {},
   "exception": null,
   "input_path": "__notebook__.ipynb",
   "output_path": "__notebook__.ipynb",
   "parameters": {},
   "start_time": "2023-09-28T20:18:38.557759",
   "version": "2.4.0"
  }
 },
 "nbformat": 4,
 "nbformat_minor": 5
}
